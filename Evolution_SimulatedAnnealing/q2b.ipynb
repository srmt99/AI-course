{
 "cells": [
  {
   "cell_type": "code",
   "execution_count": 1,
   "metadata": {},
   "outputs": [
    {
     "name": "stdout",
     "output_type": "stream",
     "text": [
      "     final fitness = 1.0\n"
     ]
    },
    {
     "data": {
      "text/plain": [
       "<Figure size 640x480 with 1 Axes>"
      ]
     },
     "metadata": {},
     "output_type": "display_data"
    }
   ],
   "source": [
    "import numpy as np\n",
    "import matplotlib.pyplot as plt\n",
    "# initilizing colors (can change for new problems)\n",
    "colors = [\"red\",\"blue\",\"yellow\",\"green\"]\n",
    "# initilizing the adjacancy graph (can change)\n",
    "nodes = [\n",
    "    [\"first_node\",[\"second_node\",\"third_node\"]],\n",
    "    [\"second_node\",[\"first_node\",\"third_node\",\"fourth_node\"]],\n",
    "    [\"third_node\",[\"first_node\",\"second_node\",\"fourth_node\",\"fifth_node\",\"sixth_node\"]],\n",
    "    [\"fourth_node\",[\"second_node\",\"third_node\",\"fifth_node\"]],\n",
    "    [\"fifth_node\",[\"third_node\",\"fourth_node\",\"sixth_node\"]],\n",
    "    [\"sixth_node\",[\"third_node\",\"fifth_node\"]]\n",
    "]\n",
    "#####\n",
    "file = open(\"iran.txt\",'r')\n",
    "lines = file.readlines()\n",
    "nodes = []\n",
    "indx = 0\n",
    "for line in lines:\n",
    "    nodes.append([indx,line.replace(\"\\n\",\"\").split(\" \")])\n",
    "    indx+=1\n",
    "#####\n",
    "# print(nodes[0])\n",
    "\n",
    "def fitness(chromosome,nodes):\n",
    "    fitness = 0\n",
    "    edges = 0\n",
    "    for member in chromosome:\n",
    "        for neigbour in member[1]:\n",
    "            edges+=1\n",
    "            for i in range(len(chromosome)):\n",
    "                if chromosome[i][0][0]==neigbour:\n",
    "                    break\n",
    "            if member[0][1] != chromosome[i][0][1]:\n",
    "                fitness+=1\n",
    "                \n",
    "    return fitness/edges\n",
    "def temp(T0,k,type):\n",
    "    if type==\"1\":\n",
    "        alpha = 0.997\n",
    "        return T0 * (alpha**k)\n",
    "    elif type==\"2\":\n",
    "        alpha = 2\n",
    "        return T0/(1+alpha*np.log(1+k))\n",
    "    elif type==\"3\":\n",
    "        alpha = 0.03\n",
    "        return T0/(1+alpha*k)\n",
    "    elif type==\"4\":\n",
    "        alpha = 0.2\n",
    "        return T0/(1+alpha*(k**2))\n",
    "    else:\n",
    "        print(\"invalid type , should be among <1,2,3,4>\")\n",
    "    return None\n",
    "def simulated_annealing(nodes,features,colding_type,initial_temperature,time_out):\n",
    "    # initilize current state\n",
    "    temp_ = np.copy(nodes)\n",
    "    for j in range(len(nodes)):\n",
    "        r = np.random.randint(len(features))\n",
    "        temp_[j][0] = [nodes[j][0],features[r]]\n",
    "    current_state = np.copy(temp_)\n",
    "    time=0\n",
    "    temp_hist = []\n",
    "    while(time<time_out):\n",
    "        time+=1\n",
    "        T = temp(initial_temperature,time,colding_type)\n",
    "        temp_hist.append(T)\n",
    "        if T == 0 : return current_state\n",
    "        # randomly select next_state\n",
    "        next_state = np.copy(current_state)\n",
    "        f_i = np.random.randint(len(features))\n",
    "        g_i = np.random.randint(len(nodes))\n",
    "        next_state[g_i][0]=np.copy([next_state[g_i][0][0],features[f_i]])\n",
    "        delta_E = fitness(next_state,nodes) - fitness(current_state,nodes)\n",
    "        if delta_E >= 0 :\n",
    "            current_state = next_state\n",
    "        else:\n",
    "            if np.random.rand()<np.exp(delta_E/T):\n",
    "#                 print(T,np.exp(delta_E/T))\n",
    "                current_state = next_state\n",
    "    print(\"     final fitness = \"+str(fitness(current_state,nodes)))\n",
    "    plt.plot(temp_hist)\n",
    "    plt.xlabel(\"iteration(time)\")\n",
    "    plt.ylabel(\"Temperature\")\n",
    "    plt.title(\"Temp Func _\"+str(colding_type)+\"_\")\n",
    "    plt.show()\n",
    "    return current_state\n",
    "\n",
    "output = simulated_annealing(np.copy(nodes),colors,colding_type=\"1\",initial_temperature=100,time_out=5000)"
   ]
  },
  {
   "cell_type": "code",
   "execution_count": null,
   "metadata": {},
   "outputs": [],
   "source": []
  }
 ],
 "metadata": {
  "kernelspec": {
   "display_name": "Python 3",
   "language": "python",
   "name": "python3"
  },
  "language_info": {
   "codemirror_mode": {
    "name": "ipython",
    "version": 3
   },
   "file_extension": ".py",
   "mimetype": "text/x-python",
   "name": "python",
   "nbconvert_exporter": "python",
   "pygments_lexer": "ipython3",
   "version": "3.7.3"
  }
 },
 "nbformat": 4,
 "nbformat_minor": 4
}
