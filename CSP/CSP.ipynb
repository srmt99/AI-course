{
 "cells": [
  {
   "cell_type": "code",
   "execution_count": 1,
   "metadata": {},
   "outputs": [],
   "source": [
    "import numpy as np\n",
    "import time\n",
    "import copy\n",
    "inputs = []\n",
    "file = open(\"inputs\\\\iH.txt\",'r')\n",
    "lines = file.readlines()\n",
    "for line in lines:\n",
    "    inputs.append(line)\n",
    "v = int(inputs[0])\n",
    "e = int(inputs[1])\n",
    "nodes_shape = inputs[2].replace(\"\\n\",\"\").split(\" \")\n",
    "connections = []\n",
    "for i in range(3,len(inputs)):\n",
    "    connections.append(inputs[i].replace(\"\\n\",\"\").split(\" \")[:2])\n",
    "    \n",
    "answer = [9,1,7,6,8,3,5,2,4]\n",
    "\n",
    "edges = []\n",
    "for i in range(len(nodes_shape)):\n",
    "    edges.append([])\n",
    "for edge in connections:\n",
    "        edges[int(edge[0])].append(int(edge[1]))\n",
    "        edges[int(edge[1])].append(int(edge[0]))\n",
    "            \n",
    "assignment = []\n",
    "for i in range(len(nodes_shape)):\n",
    "    assignment.append([nodes_shape[i],None,edges[i]])\n",
    "\n",
    "domain_values = []\n",
    "for i in range(len(nodes_shape)):\n",
    "    domain_values.append([1,2,3,4,5,6,7,8,9])"
   ]
  },
  {
   "cell_type": "code",
   "execution_count": 4,
   "metadata": {},
   "outputs": [
    {
     "name": "stdout",
     "output_type": "stream",
     "text": [
      "['C', None, [1]]\n",
      "['P', None, [0, 2]]\n",
      "['P', None, [1, 3]]\n",
      "['H', None, [2, 4]]\n",
      "['T', None, [3, 5]]\n",
      "['S', None, [4, 6]]\n",
      "['S', None, [5, 7]]\n",
      "['H', None, [6, 8]]\n",
      "['P', None, [7, 9]]\n",
      "['T', None, [8, 10]]\n",
      "['S', None, [9, 11]]\n",
      "['S', None, [10, 12]]\n",
      "['H', None, [11, 13]]\n",
      "['H', None, [12, 14]]\n",
      "['S', None, [13, 15]]\n",
      "['S', None, [14, 16]]\n",
      "['H', None, [15, 17]]\n",
      "['H', None, [16, 18]]\n",
      "['T', None, [17, 19]]\n",
      "['P', None, [18, 20]]\n",
      "['P', None, [19, 21]]\n",
      "['H', None, [20, 22]]\n",
      "['T', None, [21, 23]]\n",
      "['S', None, [22, 24]]\n",
      "['S', None, [23, 25]]\n",
      "['H', None, [24, 26]]\n",
      "['P', None, [25, 27]]\n",
      "['T', None, [26, 28]]\n",
      "['S', None, [27, 29]]\n",
      "['S', None, [28, 30]]\n",
      "['H', None, [29, 31]]\n",
      "['H', None, [30, 32]]\n",
      "['S', None, [31, 33]]\n",
      "['S', None, [32, 34]]\n",
      "['H', None, [33, 35]]\n",
      "['H', None, [34, 36]]\n",
      "['T', None, [35, 37]]\n",
      "['C', None, [36]]\n"
     ]
    }
   ],
   "source": [
    "for i in assignment:\n",
    "    print(i)"
   ]
  },
  {
   "cell_type": "code",
   "execution_count": 2,
   "metadata": {},
   "outputs": [],
   "source": [
    "def is_consistant(assingnment,index,value):\n",
    "    for neighbour in assingnment[index][2]:\n",
    "        if assingnment[int(neighbour)][1]==None:\n",
    "            return True\n",
    "    if assingnment[index][0] == \"T\": # triangel\n",
    "        result = 1\n",
    "        for neighbour in assingnment[index][2]:\n",
    "            result *= assingnment[int(neighbour)][1]\n",
    "        result = int(str(result)[0])\n",
    "        if result != value:\n",
    "            return False\n",
    "    elif assingnment[index][0] == \"S\": #square\n",
    "        result = 1\n",
    "        for neighbour in assingnment[index][2]:\n",
    "            result *= assingnment[int(neighbour)][1]\n",
    "        result = str(result)\n",
    "        result = int(result[len(result)-1])\n",
    "        if result != value:\n",
    "            return False\n",
    "    elif assingnment[index][0] == \"P\": # pangZeli\n",
    "        result = 0\n",
    "        for neighbour in assingnment[index][2]:\n",
    "            result += assingnment[int(neighbour)][1]\n",
    "        result = int(str(result)[0])\n",
    "        if result != value:\n",
    "            return False\n",
    "    elif assingnment[index][0] == \"H\": #shishZeli\n",
    "        result = 0\n",
    "        for neighbour in assingnment[index][2]:\n",
    "            result += assingnment[int(neighbour)][1]\n",
    "        result = str(result)\n",
    "        result = int(result[len(result)-1])\n",
    "        if result != value:\n",
    "            return False\n",
    "    elif assingnment[index][0] == \"C\": # Circle\n",
    "        return True\n",
    "    else:\n",
    "        print(\"wrong input\")\n",
    "        return None\n",
    "    return True\n",
    "#______________________________________________________\n",
    "def check(assignment):\n",
    "    for i in range(len(assignment)):\n",
    "        if assignment[i][1] == None:\n",
    "            break\n",
    "        if not is_consistant(assignment,i,assignment[i][1]):\n",
    "            return False\n",
    "    return True\n",
    "#______________________________________________________\n",
    "def solve(assignment,domain_values,MRV_heuristic,forward_checking):\n",
    "    if(forward_checking):\n",
    "        return back_track_fc_MRV(assignment,0,domain_values,MRV_heuristic)\n",
    "    else:\n",
    "        return back_track(assignment,0,domain_values[0])\n",
    "#______________________________________________________\n",
    "def back_track(assignment,node_index,domain_values):\n",
    "    if(node_index >= len(assignment)):\n",
    "        return True,[i[1] for i in assignment]\n",
    "    for value in domain_values:\n",
    "        assignment[node_index][1] = value\n",
    "        if check(assignment):\n",
    "            is_goal,answer = back_track(assignment.copy(),node_index+1,domain_values)\n",
    "            if is_goal:\n",
    "                return is_goal,answer\n",
    "    return False,[]\n",
    "#______________________________________________________\n",
    "def forward_check(node_index,assignment,domain_values):\n",
    "    for neighbour in assignment[node_index][2]:\n",
    "        pop_list = []\n",
    "        for value in domain_values[neighbour]:\n",
    "            if not exists_sol(neighbour,assignment,value,domain_values):\n",
    "                    pop_list.append(domain_values[neighbour].index(value))\n",
    "        for i in sorted(pop_list,reverse=True):\n",
    "            domain_values[neighbour].pop(i)\n",
    "        if len(domain_values[neighbour])==0:\n",
    "            return False,None\n",
    "    return True,domain_values\n",
    "#______________________________________________________\n",
    "def exists_sol(node_index,assignment,node_value,domain_values):\n",
    "    unassigned_list = []\n",
    "    for neighbour in assignment[node_index][2]:\n",
    "        if assignment[neighbour][1]==None:\n",
    "            unassigned_list.append(neighbour)\n",
    "    #########################################################\n",
    "    def dfs(main_node_index,current_n,assignment,n_list):\n",
    "        if current_n>=len(n_list):\n",
    "            return is_consistant(assignment,main_node_index,node_value)\n",
    "        for value in domain_values[n_list[current_n]]:\n",
    "            assignment[n_list[current_n]][1] = value\n",
    "            answer = dfs(main_node_index,current_n+1,assignment.copy(),n_list)\n",
    "            if answer:\n",
    "                return True\n",
    "        return False\n",
    "    #########################################################\n",
    "    return dfs(node_index,0,assignment.copy(),unassigned_list)\n",
    "#______________________________________________________\n",
    "def MRV(assignment,domain_values):\n",
    "    candidate_nodes = []\n",
    "    for i in range(len(assignment)):\n",
    "        if assignment[i][1]==None:\n",
    "            candidate_nodes.append(i)\n",
    "    if len(candidate_nodes)==0:\n",
    "        return 0\n",
    "    temp = []\n",
    "    for i in candidate_nodes:\n",
    "        temp.append(len(domain_values[i]))\n",
    "    return candidate_nodes[temp.index(min(temp))]\n",
    "#______________________________________________________\n",
    "def back_track_fc_MRV(assignment,node_index,domain_values,MRV_heuristic):\n",
    "    if None not in [i[1] for i in assignment]:\n",
    "        return True,[i[1] for i in assignment]\n",
    "    for value in domain_values[node_index]:\n",
    "        assignment[node_index][1] = value\n",
    "        if check(assignment):\n",
    "            not_empty,new_domain_values = forward_check(node_index,assignment.copy(),copy.deepcopy(domain_values))\n",
    "            if not not_empty:\n",
    "                continue\n",
    "            if MRV_heuristic:\n",
    "                next_node = MRV(assignment,new_domain_values)\n",
    "            else:\n",
    "                next_node = node_index+1\n",
    "            is_goal,answer = back_track_fc_MRV(assignment.copy(),next_node,new_domain_values,MRV_heuristic)\n",
    "            if is_goal:\n",
    "                return is_goal,answer\n",
    "    return False,[]"
   ]
  },
  {
   "cell_type": "code",
   "execution_count": 3,
   "metadata": {},
   "outputs": [
    {
     "name": "stdout",
     "output_type": "stream",
     "text": [
      "it took : 0.2240900993347168 seconds\n",
      "[5, 6, 1, 4, 3, 8, 6, 2, 6, 4, 8, 2, 4, 2, 8, 4, 3, 9, 6, 7, 1, 4, 3, 8, 6, 2, 6, 4, 8, 2, 4, 2, 8, 4, 3, 9, 6, 7]\n"
     ]
    }
   ],
   "source": [
    "start = time.time()\n",
    "is_goal,answer = solve(np.copy(assignment),domain_values,MRV_heuristic=True,forward_checking=True)\n",
    "end = time.time()\n",
    "print(\"it took : \"+ str(end - start) + \" seconds\")\n",
    "print(answer)"
   ]
  },
  {
   "cell_type": "code",
   "execution_count": 13,
   "metadata": {},
   "outputs": [
    {
     "ename": "TypeError",
     "evalue": "cannot unpack non-iterable int object",
     "output_type": "error",
     "traceback": [
      "\u001b[1;31m---------------------------------------------------------------------------\u001b[0m",
      "\u001b[1;31mTypeError\u001b[0m                                 Traceback (most recent call last)",
      "\u001b[1;32m<ipython-input-13-554da1bc2052>\u001b[0m in \u001b[0;36m<module>\u001b[1;34m\u001b[0m\n\u001b[0;32m      1\u001b[0m \u001b[0mt\u001b[0m \u001b[1;33m=\u001b[0m \u001b[1;33m[\u001b[0m\u001b[1;36m1\u001b[0m\u001b[1;33m,\u001b[0m\u001b[1;36m2\u001b[0m\u001b[1;33m]\u001b[0m\u001b[1;33m\u001b[0m\u001b[1;33m\u001b[0m\u001b[0m\n\u001b[0;32m      2\u001b[0m \u001b[0mx\u001b[0m \u001b[1;33m=\u001b[0m \u001b[1;33m[\u001b[0m\u001b[1;36m22\u001b[0m\u001b[1;33m,\u001b[0m\u001b[1;36m4\u001b[0m\u001b[1;33m,\u001b[0m\u001b[1;36m5\u001b[0m\u001b[1;33m,\u001b[0m\u001b[1;36m6\u001b[0m\u001b[1;33m]\u001b[0m\u001b[1;33m\u001b[0m\u001b[1;33m\u001b[0m\u001b[0m\n\u001b[1;32m----> 3\u001b[1;33m \u001b[0mi\u001b[0m\u001b[1;33m,\u001b[0m\u001b[0mm\u001b[0m \u001b[1;33m=\u001b[0m \u001b[0mmin\u001b[0m\u001b[1;33m(\u001b[0m\u001b[0mx\u001b[0m\u001b[1;33m)\u001b[0m\u001b[1;33m\u001b[0m\u001b[1;33m\u001b[0m\u001b[0m\n\u001b[0m",
      "\u001b[1;31mTypeError\u001b[0m: cannot unpack non-iterable int object"
     ]
    }
   ],
   "source": [
    "t = [1,2]\n",
    "x = [22,4,5,6]\n",
    "i,m = min(x)"
   ]
  },
  {
   "cell_type": "code",
   "execution_count": 434,
   "metadata": {},
   "outputs": [
    {
     "name": "stdout",
     "output_type": "stream",
     "text": [
      "[[1, 2, 3, 4, 5, 6, 7, 8, 9], [1, 2, 3, 4, 5, 6, 7, 8, 9], [1, 2, 3, 4, 5, 6, 7, 8, 9], [1, 2, 3, 4, 5, 6, 7, 8, 9], [1, 2, 3, 4, 5, 6, 7, 8, 9], [1, 2, 3, 4, 5, 6, 7, 8, 9], [1, 2, 3, 4, 5, 6, 7, 8, 9], [1, 2, 3, 4, 5, 6, 7, 8, 9], [1, 2, 3, 4, 5, 6, 7, 8, 9], [1, 2, 3, 4, 5, 6, 7, 8, 9], [1, 2, 3, 4, 5, 6, 7, 8, 9], [1, 2, 3, 4, 5, 6, 7, 8, 9], [1, 2, 3, 4, 5, 6, 7, 8, 9], [1, 2, 3, 4, 5, 6, 7, 8, 9], [1, 2, 3, 4, 5, 6, 7, 8, 9]]\n"
     ]
    }
   ],
   "source": [
    "print(domain_values)"
   ]
  },
  {
   "cell_type": "code",
   "execution_count": 37,
   "metadata": {},
   "outputs": [
    {
     "name": "stdout",
     "output_type": "stream",
     "text": [
      "[2, 3, 4, 5, 6, 7]\n"
     ]
    }
   ],
   "source": [
    "[5, 6, 1, 4, 3, 8, 6, 2, 6, 4, 8, 2, 4, 2, 8, 4, 3, 9, 6, 7, 1, 4, 3, 8, 6, 2, 6, 4, 8, 2, 4, 2, 8, 4, 3, 9, 6, 7]"
   ]
  },
  {
   "cell_type": "code",
   "execution_count": null,
   "metadata": {},
   "outputs": [],
   "source": []
  }
 ],
 "metadata": {
  "kernelspec": {
   "display_name": "Python 3",
   "language": "python",
   "name": "python3"
  },
  "language_info": {
   "codemirror_mode": {
    "name": "ipython",
    "version": 3
   },
   "file_extension": ".py",
   "mimetype": "text/x-python",
   "name": "python",
   "nbconvert_exporter": "python",
   "pygments_lexer": "ipython3",
   "version": "3.7.3"
  }
 },
 "nbformat": 4,
 "nbformat_minor": 4
}
